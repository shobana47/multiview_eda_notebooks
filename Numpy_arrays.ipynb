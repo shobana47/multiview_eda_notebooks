{
 "cells": [
  {
   "cell_type": "code",
   "execution_count": 4,
   "id": "8523f39d-4ea6-4bf0-ab7a-a0f8c67d4a73",
   "metadata": {},
   "outputs": [
    {
     "name": "stdout",
     "output_type": "stream",
     "text": [
      "Original 1D array:\n",
      "[1 2 3 4 5]\n",
      "\n",
      "Original 2D array:\n",
      "[[1 2 3]\n",
      " [4 5 6]]\n",
      "\n",
      "Array operations:\n",
      "arr1 + 10: [11 12 13 14 15]\n",
      "arr2 * 2: [[ 2  4  6]\n",
      " [ 8 10 12]]\n",
      "\n",
      "Array slicing:\n",
      "Element at index 2: 3\n",
      "Sliced arr1: [2 3 4]\n",
      "Second column of arr2: [2 5]\n",
      "\n",
      "Array shape and dimensions:\n",
      "Shape of arr2: (2, 3)\n",
      "Number of dimensions in arr2: 2\n",
      "\n",
      "Reshaped array:\n",
      "[[1]\n",
      " [2]\n",
      " [3]\n",
      " [4]\n",
      " [5]]\n"
     ]
    }
   ],
   "source": [
    "import numpy as np\n",
    "\n",
    "arr1 = np.array([1, 2, 3, 4, 5]) \n",
    "arr2 = np.array([[1, 2, 3], [4, 5, 6]]) \n",
    "\n",
    "arr_sum = arr1 + 10 \n",
    "arr_product = arr2 * 2\n",
    "\n",
    "element_at_index_2 = arr1[2] \n",
    "sliced_arr1 = arr1[1:4] \n",
    "sliced_arr2 = arr2[:, 1]\n",
    "\n",
    "shape_of_arr2 = arr2.shape \n",
    "dimensions_of_arr2 = arr2.ndim\n",
    "\n",
    "# Reshape the array\n",
    "reshaped_arr1 = arr1.reshape((5, 1))\n",
    "print(\"Original 1D array:\")\n",
    "print(arr1)\n",
    "print(\"\\nOriginal 2D array:\")\n",
    "print(arr2)\n",
    "\n",
    "print(\"\\nArray operations:\")\n",
    "print(\"arr1 + 10:\", arr_sum)\n",
    "print(\"arr2 * 2:\", arr_product)\n",
    "\n",
    "print(\"\\nArray slicing:\")\n",
    "print(\"Element at index 2:\", element_at_index_2)\n",
    "print(\"Sliced arr1:\", sliced_arr1)\n",
    "print(\"Second column of arr2:\", sliced_arr2)\n",
    "print(\"\\nArray shape and dimensions:\")\n",
    "print(\"Shape of arr2:\", shape_of_arr2)\n",
    "print(\"Number of dimensions in arr2:\", dimensions_of_arr2)\n",
    "print(\"\\nReshaped array:\")\n",
    "print(reshaped_arr1)"
   ]
  },
  {
   "cell_type": "code",
   "execution_count": null,
   "id": "f3a56afa-7733-4a2c-8562-5db0a91812cf",
   "metadata": {},
   "outputs": [],
   "source": []
  },
  {
   "cell_type": "code",
   "execution_count": null,
   "id": "5538a6b7-8d17-48cc-b02e-b7724ade4bc8",
   "metadata": {},
   "outputs": [],
   "source": []
  }
 ],
 "metadata": {
  "kernelspec": {
   "display_name": "Python [conda env:base] *",
   "language": "python",
   "name": "conda-base-py"
  },
  "language_info": {
   "codemirror_mode": {
    "name": "ipython",
    "version": 3
   },
   "file_extension": ".py",
   "mimetype": "text/x-python",
   "name": "python",
   "nbconvert_exporter": "python",
   "pygments_lexer": "ipython3",
   "version": "3.13.5"
  }
 },
 "nbformat": 4,
 "nbformat_minor": 5
}
