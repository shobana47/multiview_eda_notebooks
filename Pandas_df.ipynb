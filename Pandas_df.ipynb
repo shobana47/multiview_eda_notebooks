{
 "cells": [
  {
   "cell_type": "code",
   "execution_count": 3,
   "id": "a615934f-200e-4e51-af74-0954774fc0eb",
   "metadata": {},
   "outputs": [
    {
     "name": "stdout",
     "output_type": "stream",
     "text": [
      "Original DataFrame:\n",
      "      Name  Age           City\n",
      "0    Alice   25       New York\n",
      "1      Bob   30  San Francisco\n",
      "2  Charlie   22    Los Angeles\n",
      "3    David   35        Chicago\n",
      "4    Emily   28         Boston\n"
     ]
    }
   ],
   "source": [
    "import pandas as pd\n",
    "# Creating a Pandas DataFrame\n",
    "data = {\n",
    "'Name': ['Alice', 'Bob', 'Charlie', 'David', 'Emily'],\n",
    "'Age': [25, 30, 22, 35, 28],\n",
    "'City': ['New York', 'San Francisco', 'Los Angeles', 'Chicago', 'Boston']\n",
    "}\n",
    "df = pd.DataFrame(data)\n",
    "# Displaying the DataFrame\n",
    "print(\"Original DataFrame:\")\n",
    "print(df)"
   ]
  },
  {
   "cell_type": "code",
   "execution_count": 4,
   "id": "05fcf29d-92d9-4721-86d0-358f2082eaac",
   "metadata": {},
   "outputs": [
    {
     "name": "stdout",
     "output_type": "stream",
     "text": [
      "\n",
      "Updated DataFrame:\n",
      "      Name  Age           City  Salary\n",
      "0    Alice   26       New York   60000\n",
      "1      Bob   31  San Francisco   75000\n",
      "2  Charlie   23    Los Angeles   50000\n",
      "3    David   36        Chicago   90000\n",
      "4    Emily   29         Boston   65000\n",
      "\n",
      "Young people (Age < 30):\n",
      "      Name  Age         City  Salary\n",
      "0    Alice   26     New York   60000\n",
      "2  Charlie   23  Los Angeles   50000\n",
      "4    Emily   29       Boston   65000\n",
      "\n",
      "Average Salary by City:\n",
      "City\n",
      "Boston           65000.0\n",
      "Chicago          90000.0\n",
      "Los Angeles      50000.0\n",
      "New York         60000.0\n",
      "San Francisco    75000.0\n",
      "Name: Salary, dtype: float64\n"
     ]
    }
   ],
   "source": [
    "# Basic operations on DataFrame\n",
    "df['Salary'] = [60000, 75000, 50000, 90000, 65000] # Adding a new column\n",
    "df['Age'] = df['Age'] + 1 # Incrementing the 'Age' column by 1\n",
    "# Filtering data\n",
    "young_people = df[df['Age'] < 30] # Selecting rows where age is less than 30\n",
    "# Grouping and aggregation\n",
    "city_avg_salary = df.groupby('City')['Salary'].mean()\n",
    "# Displaying the updated DataFrame and filtered data\n",
    "print(\"\\nUpdated DataFrame:\")\n",
    "print(df)\n",
    "print(\"\\nYoung people (Age < 30):\")\n",
    "print(young_people)\n",
    "print(\"\\nAverage Salary by City:\")\n",
    "print(city_avg_salary)"
   ]
  },
  {
   "cell_type": "code",
   "execution_count": null,
   "id": "54e4cde4-4ecf-4ae5-bb5e-bfb5fc750462",
   "metadata": {},
   "outputs": [],
   "source": []
  }
 ],
 "metadata": {
  "kernelspec": {
   "display_name": "Python [conda env:base] *",
   "language": "python",
   "name": "conda-base-py"
  },
  "language_info": {
   "codemirror_mode": {
    "name": "ipython",
    "version": 3
   },
   "file_extension": ".py",
   "mimetype": "text/x-python",
   "name": "python",
   "nbconvert_exporter": "python",
   "pygments_lexer": "ipython3",
   "version": "3.13.5"
  }
 },
 "nbformat": 4,
 "nbformat_minor": 5
}
